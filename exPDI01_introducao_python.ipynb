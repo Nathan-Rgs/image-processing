{
  "cells": [
    {
      "cell_type": "markdown",
      "metadata": {
        "id": "view-in-github",
        "colab_type": "text"
      },
      "source": [
        "<a href=\"https://colab.research.google.com/github/Nathan-Rgs/image-processing/blob/main/exPDI01_introducao_python.ipynb\" target=\"_parent\"><img src=\"https://colab.research.google.com/assets/colab-badge.svg\" alt=\"Open In Colab\"/></a>"
      ]
    },
    {
      "cell_type": "markdown",
      "metadata": {
        "id": "mRXT7u1MyERn"
      },
      "source": [
        "# <center>Centro Universitário Facens<br/></center>\n",
        "<br/>\n",
        "<font size=\"4\"><center><b>Disciplina: Processamento de Imagens</b></center></font>\n",
        "  \n",
        "<font size=\"3\"><center>Prof. Renato Moraes Silva</center></font>\n",
        "<br/>"
      ]
    },
    {
      "cell_type": "markdown",
      "metadata": {
        "id": "iBTp-uu6yERs"
      },
      "source": [
        "# <center>Exercício - Introdução ao Python</center>\n",
        "\n",
        "Neste exercício, são apresentados alguns recursos básicos do Python que geralmente são necessários nos projetos de Processamento de Imagens.\n",
        "\n",
        "### Objetivos de aprendizagem\n",
        "- Entender como criar vetores e matrizes no Python\n",
        "- Aprender indexação e fatiamento (*slicing*) de matrizes no Python\n",
        "- Aprender a executar operações matriciais e obter estatísticas\n",
        "- Conhecer a relação entre matriz e imagem"
      ]
    },
    {
      "cell_type": "markdown",
      "metadata": {
        "id": "oLfFvnuzyERv"
      },
      "source": [
        "# Numpy - vetores e matrizes\n",
        "\n",
        "A biblioteca `numpy` do python permite a criação, manipulações e operações matemáticas de vetores e matrizes.\n",
        "\n",
        "Primeiro, você deve importar a biblioteca, antes de usar suas funções."
      ]
    },
    {
      "cell_type": "code",
      "execution_count": null,
      "metadata": {
        "scrolled": true,
        "id": "rf82gpqAyERx"
      },
      "outputs": [],
      "source": [
        "\n",
        "import numpy as np\n"
      ]
    },
    {
      "cell_type": "markdown",
      "metadata": {
        "id": "inAdjZUVyERy"
      },
      "source": [
        "## Criando vetores e matrizes\n",
        "\n",
        "Criando um vetor com os seguintes valores $[1,2,3,4,5]$."
      ]
    },
    {
      "cell_type": "code",
      "execution_count": null,
      "metadata": {
        "id": "sm46jyX2yERz",
        "outputId": "0babc71b-2159-4796-cbd2-d1064995fd5c",
        "colab": {
          "base_uri": "https://localhost:8080/"
        }
      },
      "outputs": [
        {
          "output_type": "execute_result",
          "data": {
            "text/plain": [
              "array([1, 2, 3, 4, 5])"
            ]
          },
          "metadata": {},
          "execution_count": 9
        }
      ],
      "source": [
        "np.array([1,2,3,4,5])\n",
        "\n"
      ]
    },
    {
      "cell_type": "markdown",
      "metadata": {
        "id": "2BxZHoDpyER1"
      },
      "source": [
        "Podemos criar um vetor de elementos sequenciais usando a função `arange` do `numpy`. Por exemplo, vamos criar um vetor com valores de 0 até 7."
      ]
    },
    {
      "cell_type": "code",
      "execution_count": null,
      "metadata": {
        "id": "-4uvTDfxyER2",
        "outputId": "9d5520fd-9941-40fe-b90d-d5aa98628ab6",
        "colab": {
          "base_uri": "https://localhost:8080/"
        }
      },
      "outputs": [
        {
          "output_type": "execute_result",
          "data": {
            "text/plain": [
              "array([0, 1, 2, 3, 4, 5, 6])"
            ]
          },
          "metadata": {},
          "execution_count": 10
        }
      ],
      "source": [
        "np.arange(0, 7)\n",
        "\n",
        "\n",
        "\n"
      ]
    },
    {
      "cell_type": "markdown",
      "metadata": {
        "id": "SiIFKNglyER3"
      },
      "source": [
        "Agora, vamos criar um vetor de elementos sequenciais de 5 até 10."
      ]
    },
    {
      "cell_type": "code",
      "execution_count": null,
      "metadata": {
        "id": "GR1faSXyyER5",
        "outputId": "42041122-0a74-4551-898c-9218ebd15571",
        "colab": {
          "base_uri": "https://localhost:8080/"
        }
      },
      "outputs": [
        {
          "output_type": "execute_result",
          "data": {
            "text/plain": [
              "array([ 5,  6,  7,  8,  9, 10])"
            ]
          },
          "metadata": {},
          "execution_count": 18
        }
      ],
      "source": [
        "np.arange(5, 11)\n",
        "\n"
      ]
    },
    {
      "cell_type": "markdown",
      "metadata": {
        "id": "2m9SdpBJyER6"
      },
      "source": [
        "Nós podemos também criar um vetor sequencial variando de 2 em 2 ou com outros intervalos."
      ]
    },
    {
      "cell_type": "code",
      "execution_count": null,
      "metadata": {
        "id": "EitDfTu_yER7",
        "outputId": "41af9a99-ab67-4ab3-ec43-b9cd9fd94a86",
        "colab": {
          "base_uri": "https://localhost:8080/"
        }
      },
      "outputs": [
        {
          "output_type": "execute_result",
          "data": {
            "text/plain": [
              "array([ 5,  7,  9, 11, 13, 15, 17, 19, 21, 23, 25, 27, 29, 31, 33, 35, 37,\n",
              "       39, 41, 43, 45, 47, 49, 51])"
            ]
          },
          "metadata": {},
          "execution_count": 14
        }
      ],
      "source": [
        "np.arange(5, 52, 2)\n"
      ]
    },
    {
      "cell_type": "markdown",
      "metadata": {
        "id": "VTynusEtyER8"
      },
      "source": [
        "Vetores sequenciais podem ser usados em laços de repetição. Por exemplo, vamos imprimir todos os valores entre 2 e 10 usando um laço de repetição `for`."
      ]
    },
    {
      "cell_type": "code",
      "execution_count": null,
      "metadata": {
        "id": "ZDDRDi15yER9",
        "colab": {
          "base_uri": "https://localhost:8080/"
        },
        "outputId": "40ebda1f-1f25-4bf0-dda7-392c5244f50a"
      },
      "outputs": [
        {
          "output_type": "stream",
          "name": "stdout",
          "text": [
            "2\n",
            "3\n",
            "4\n",
            "5\n",
            "6\n",
            "7\n",
            "8\n",
            "9\n"
          ]
        }
      ],
      "source": [
        "for i in np.arange(2, 100, 40):\n",
        "  print(i)\n",
        "\n",
        "\n"
      ]
    },
    {
      "cell_type": "markdown",
      "metadata": {
        "id": "ZkxZAiz_yER9"
      },
      "source": [
        "Nós também podemos criar um vetor com $n$-zeros ou $n$-uns."
      ]
    },
    {
      "cell_type": "code",
      "execution_count": null,
      "metadata": {
        "id": "BDcqiDVVyER9",
        "colab": {
          "base_uri": "https://localhost:8080/"
        },
        "outputId": "fe90887b-da3c-4b96-91b6-3831d2dae718"
      },
      "outputs": [
        {
          "output_type": "stream",
          "name": "stdout",
          "text": [
            "[0. 0. 0. 0. 0. 0. 0. 0. 0. 0.]\n",
            "[1. 1. 1. 1. 1. 1. 1. 1. 1. 1.]\n"
          ]
        }
      ],
      "source": [
        "vet1 = np.zeros(10)\n",
        "vet2 = np.ones(10)\n",
        "\n",
        "print(vet1)\n",
        "print(vet2)"
      ]
    },
    {
      "cell_type": "markdown",
      "metadata": {
        "id": "i-ewk4-_yER-"
      },
      "source": [
        "Criando uma matriz com os valores: $\n",
        "  \\begin{bmatrix}\n",
        "    0 & 0 & 0 & 0 & 0\\\\\n",
        "    0 & 250 & 0 & 255 & 0\\\\\n",
        "    0 & 0 & 0 & 0 & 0\\\\\n",
        "    0 & 255 & 240 & 245 & 0\\\\\n",
        "    0 & 0 & 0 & 0 & 0 \\\\\n",
        "  \\end{bmatrix}$"
      ]
    },
    {
      "cell_type": "code",
      "execution_count": null,
      "metadata": {
        "id": "Rr3RRnWmyER-"
      },
      "outputs": [],
      "source": [
        "mat1 = np.array([np.zeros(5), [0, 250, 0, 255, 0],  np.zeros(5),  [0, 255, 240, 245,0],  np.zeros(5)])"
      ]
    },
    {
      "cell_type": "markdown",
      "metadata": {
        "id": "3GjYBOp_yER_"
      },
      "source": [
        "Uma matriz é também uma imagem. Portanto, pode plotar a imagem gerada pela matriz acima. Para isso, você pode usar a função *imshow* da biblioteca biblioteca ```matplotlib.pyplot```.\n",
        "\n",
        "Quando queremos que a imagem seja plotada em tons de cinza, é necessário passar o argumento 'gray' para o método *imshow*, além de informar o maior (*vmax*) e o menor (*vmin*) valor da escala de cinza. Por exemplo, considerando que a imagem tenha 16 tons de cinza, *vmax* deve ser setado com 15, enquanto *vmin* com 0. Se nenhum valor for passado, o método considera o maior e o menor tom de cinza automaticamente, com base nos pixels da imagem de entrada.\n",
        "\n",
        "Obs.: converta a imagem para o tipo ```uint8``` usando a função ```astype```."
      ]
    },
    {
      "cell_type": "code",
      "execution_count": null,
      "metadata": {
        "id": "YhV5-TdSyER_"
      },
      "outputs": [],
      "source": [
        "import matplotlib.pyplot as plt\n",
        "\n",
        "mat = mat1.astype(np.uint8)\n",
        "plt.imshow(mat, 'gray', vmin=0, vmax=255)"
      ]
    },
    {
      "cell_type": "markdown",
      "metadata": {
        "id": "8gzDRoEwyESA"
      },
      "source": [
        "Caso você queira gerar uma imagem colorida, você deve criar uma matriz onde o valor de cada linha e coluna é um vetor de três dimensões cujos valores podem variar entre 0 e 255.\n",
        "\n",
        "Obs.: Defina a imagem com o tipo ```uint8```."
      ]
    },
    {
      "cell_type": "code",
      "execution_count": null,
      "metadata": {
        "id": "cho0M3ZoyESA",
        "colab": {
          "base_uri": "https://localhost:8080/",
          "height": 396
        },
        "outputId": "7abaca51-c9e9-4ffd-99d8-1871f4060405"
      },
      "outputs": [
        {
          "output_type": "display_data",
          "data": {
            "text/plain": [
              "<Figure size 640x480 with 1 Axes>"
            ],
            "image/png": "[encoded data removed]"
          },
          "metadata": {}
        }
      ],
      "source": [
        "mat2 = np.array([[[255, 255, 0],[0, 255, 255],[0, 255, 0]], [[0, 255, 128], [0, 0, 255], [255, 0, 0]]], dtype=np.uint8)\n",
        "plt.imshow(mat2)\n",
        "plt.show()"
      ]
    },
    {
      "cell_type": "markdown",
      "metadata": {
        "id": "-h3Yh9ThyESA"
      },
      "source": [
        "Nós também podemos criar uma matriz de valores zero e uma matriz de valores um:"
      ]
    },
    {
      "cell_type": "code",
      "execution_count": null,
      "metadata": {
        "id": "oK0ex6NryESB",
        "colab": {
          "base_uri": "https://localhost:8080/"
        },
        "outputId": "f9423641-8655-4cff-c0b4-90e46058ac04"
      },
      "outputs": [
        {
          "output_type": "stream",
          "name": "stdout",
          "text": [
            "Mat3: [[0. 0. 0. 0.]\n",
            " [0. 0. 0. 0.]\n",
            " [0. 0. 0. 0.]]\n",
            "Mat4: [[1. 1. 1. 1. 1. 1.]\n",
            " [1. 1. 1. 1. 1. 1.]\n",
            " [1. 1. 1. 1. 1. 1.]\n",
            " [1. 1. 1. 1. 1. 1.]\n",
            " [1. 1. 1. 1. 1. 1.]]\n"
          ]
        }
      ],
      "source": [
        "mat3 = np.zeros([3, 4])\n",
        "mat4 = np.ones([5, 6])\n",
        "\n",
        "print(f'Mat3: {mat3}')\n",
        "print(f'Mat4: {mat4}')"
      ]
    },
    {
      "cell_type": "markdown",
      "metadata": {
        "id": "-GRPJQnuyESC"
      },
      "source": [
        "## Selecionando elementos de vetores e matrizes\n",
        "\n",
        "Suponha que temos um vetor $[a,b,c,d,e,f,g,h,i]$. Nós podemos selecionar vários subconjuntos de elementos desse vetor, como:\n",
        "\n",
        "- três primeiros elementos\n",
        "- todos os valores após o quinto elemento\n",
        "- os três ultimos valores\n",
        "- os valores entre o quinta elemento até o penúltimo elemento\n",
        "\n",
        "**Observação**: no python, o índice começa a contar em 0."
      ]
    },
    {
      "cell_type": "code",
      "execution_count": null,
      "metadata": {
        "id": "SnSBSy75yESC",
        "colab": {
          "base_uri": "https://localhost:8080/"
        },
        "outputId": "ca4fcc16-cf53-49cf-eebf-b7936459e2b6"
      },
      "outputs": [
        {
          "output_type": "stream",
          "name": "stdout",
          "text": [
            "Vet7: ['a' 'b' 'c' 'd' 'e' 'f' 'g' 'h' 'i']\n",
            "3 Primeiros valores: ['a' 'b' 'c']\n",
            "3 até o 5: ['c' 'd' 'e']\n",
            "3 até o 5: ['g' 'h' 'i']\n"
          ]
        }
      ],
      "source": [
        "vet7 = np.array(['a','b','c','d','e','f','g','h','i'])\n",
        "\n",
        "print(f'Vet7: {vet7}')\n",
        "print(f'3 Primeiros valores: {vet7[0:3]}')\n",
        "print(f'3 até o 5: {vet7[2:5]}')\n",
        "print(f'3 até o 5: {vet7[-3:]}')"
      ]
    },
    {
      "cell_type": "markdown",
      "metadata": {
        "id": "Xt0_ePLtyESC"
      },
      "source": [
        "Suponha que temos um array: $\\begin{bmatrix}\n",
        "    1a & 1b & 1c & 1d & 1e & 1f & 1g & 1h & 1i \\\\\n",
        "    2a & 2b & 2c & 2d & 2e & 2f & 2g & 2h & 2i \\\\\n",
        "    3a & 3b & 3c & 3d & 3e & 3f & 3g & 3h & 3i \\\\\n",
        "    4a & 4b & 4c & 4d & 4e & 4f & 4g & 4h & 4i \\\\\n",
        "  \\end{bmatrix}$.\n",
        "\n",
        "Nós podemos selecionar vários subconjuntos de elementos dessa matriz, como:\n",
        "- todos os elementos da coluna 3\n",
        "- todos os elementos da linha 2\n",
        "- todos os elementos das duas primeiras colunas\n",
        "- todos os elementos das duas primeiras linhas\n",
        "- apenas os elementos das 2 primeiras linhas e das 2 primeiras colunas\n",
        "- apenas os elementos das 2 últimas linhas e das 4 últimas colunas\n",
        "- apenas os elementos das linhas 2 até 4 e das colunas 4 até 6"
      ]
    },
    {
      "cell_type": "code",
      "execution_count": null,
      "metadata": {
        "id": "NBw9756nyESD"
      },
      "outputs": [],
      "source": [
        "# criando uma matriz\n",
        "arrayA = np.array( [['1a','1b','1c','1d','1e','1f','1g','1h','1i'],\n",
        "                    ['2a','2b','2c','2d','2e','2f','2g','2h','2i'],\n",
        "                    ['3a','3b','3c','3d','3e','3f','3g','3h','3i'],\n",
        "                    ['4a','4b','4c','4d','4e','4f','4g', '4h','4i']])\n",
        "\n",
        "\n",
        "\n",
        "\n",
        "\n",
        "\n",
        "\n"
      ]
    },
    {
      "cell_type": "markdown",
      "metadata": {
        "id": "JW2kVE1pyESD"
      },
      "source": [
        "Nós podemos combinar as operações mostradas acima para gerar imagens. Por exemplo, no exemplo abaixo, iremos criar uma imagem toda azul."
      ]
    },
    {
      "cell_type": "code",
      "execution_count": null,
      "metadata": {
        "id": "a-YtJ_E0yESD",
        "colab": {
          "base_uri": "https://localhost:8080/",
          "height": 430
        },
        "outputId": "6ad2d783-d255-445e-fd28-8dbfa9604117"
      },
      "outputs": [
        {
          "output_type": "display_data",
          "data": {
            "text/plain": [
              "<Figure size 640x480 with 1 Axes>"
            ],
            "image/png": "[encoded data removed]"
          },
          "metadata": {}
        }
      ],
      "source": [
        "img = np.zeros([10,10,3], dtype=np.uint8)\n",
        "\n",
        "img[:,:,2] = 255\n",
        "# colorize the middle column\n",
        "img[:, 4:6, 0] = 255\n",
        "\n",
        "img[4:6, :, 1] = 255\n",
        "\n",
        "plt.imshow(img)\n",
        "plt.show()"
      ]
    },
    {
      "cell_type": "markdown",
      "metadata": {
        "id": "hhAaaINwyESE"
      },
      "source": [
        "Agora, iremos misturar a cor azul da imagem com uma nova cor: a verde. Para isso, iremos adicionar a cor verde no segundo canal de cor de cada pixel da primeira coluna da imagem."
      ]
    },
    {
      "cell_type": "code",
      "execution_count": null,
      "metadata": {
        "id": "_24tWP9SyESE",
        "colab": {
          "base_uri": "https://localhost:8080/",
          "height": 430
        },
        "outputId": "f2177dd2-5f7c-4480-d621-97a2aad93d36"
      },
      "outputs": [
        {
          "output_type": "display_data",
          "data": {
            "text/plain": [
              "<Figure size 640x480 with 1 Axes>"
            ],
            "image/png": "[encoded data removed]"
          },
          "metadata": {}
        }
      ],
      "source": [
        "img[:,0,:] = [0,255,0]\n",
        "\n",
        "plt.imshow(img)\n",
        "plt.show()"
      ]
    },
    {
      "cell_type": "markdown",
      "metadata": {
        "id": "cqHG5gQ3yESE"
      },
      "source": [
        "Iremos pintar a última linha com a cor vermelha."
      ]
    },
    {
      "cell_type": "code",
      "execution_count": null,
      "metadata": {
        "id": "Rf-GBIT7yESF",
        "colab": {
          "base_uri": "https://localhost:8080/",
          "height": 430
        },
        "outputId": "2670fd27-6f4e-429e-f786-94306548d5ae"
      },
      "outputs": [
        {
          "output_type": "display_data",
          "data": {
            "text/plain": [
              "<Figure size 640x480 with 1 Axes>"
            ],
            "image/png": "[encoded data removed]"
          },
          "metadata": {}
        }
      ],
      "source": [
        "img[-1,:,:] = [255,0,0]\n",
        "\n",
        "plt.imshow(img)\n",
        "plt.show()"
      ]
    },
    {
      "cell_type": "markdown",
      "metadata": {
        "id": "pxV4GYFPyESF"
      },
      "source": [
        "## Operações básicas com vetores e matrizes\n",
        "\n",
        "Soma e subtração entre vetores."
      ]
    },
    {
      "cell_type": "code",
      "execution_count": null,
      "metadata": {
        "id": "1FfPaF79yESF",
        "colab": {
          "base_uri": "https://localhost:8080/"
        },
        "outputId": "73f67ca1-c91a-4a4c-82e3-a9243e775dc2"
      },
      "outputs": [
        {
          "output_type": "stream",
          "name": "stdout",
          "text": [
            "Soma: [5 7 9]\n",
            "Subtração: [-3 -3 -3]\n"
          ]
        }
      ],
      "source": [
        "vet = np.array([1,2,3])\n",
        "vet2 = np.array([4,5,6])\n",
        "\n",
        "print(\"Soma:\", vet + vet2)\n",
        "print(\"Subtração:\", vet - vet2)"
      ]
    },
    {
      "cell_type": "markdown",
      "metadata": {
        "id": "h8PZ0Yw5yESG"
      },
      "source": [
        "Soma e subtração entre matrizes."
      ]
    },
    {
      "cell_type": "code",
      "execution_count": null,
      "metadata": {
        "id": "jt-bNmKXyESG",
        "colab": {
          "base_uri": "https://localhost:8080/"
        },
        "outputId": "8f954e6b-4320-4395-91bc-5c8d61b27d99"
      },
      "outputs": [
        {
          "output_type": "stream",
          "name": "stdout",
          "text": [
            "Soma: [[ 9 11 13]\n",
            " [ 8  8  8]]\n",
            "Subtração: [[-5 -5 -5]\n",
            " [ 0  2  4]]\n"
          ]
        }
      ],
      "source": [
        "mat = np.array([[2,3,4], [4,5,6]])\n",
        "mat2 = np.array([[7,8,9], [4,3,2]])\n",
        "\n",
        "print(\"Soma:\", mat + mat2)\n",
        "print(\"Subtração:\", mat - mat2)"
      ]
    },
    {
      "cell_type": "markdown",
      "metadata": {
        "id": "6iUDUXaByESG"
      },
      "source": [
        "Produto entre duas matrizes.\n",
        "\n",
        "Obs.: para isso ser possível, a quantidade de colunas da primeira, deve ser igual a quantidade de linhas da segunda"
      ]
    },
    {
      "cell_type": "code",
      "execution_count": null,
      "metadata": {
        "id": "PKMpHPHkyESH",
        "colab": {
          "base_uri": "https://localhost:8080/"
        },
        "outputId": "2cc430f7-1b16-441d-ef2b-cf38e8e8a3a0"
      },
      "outputs": [
        {
          "output_type": "stream",
          "name": "stdout",
          "text": [
            "Multiplicação elemento a elemento: [[14 24 36]\n",
            " [16 15 12]]\n",
            "Multiplicação matricial: [[38 18]\n",
            " [66 32]]\n"
          ]
        }
      ],
      "source": [
        "print(\"Multiplicação elemento a elemento:\", mat * mat2)\n",
        "\n",
        "# A quantidade de colunas na primeira precisa ser igual ao de colunas da segunda matix\n",
        "mat3 = np.array([[7,4], [4,2], [3,1]])\n",
        "print(\"Multiplicação matricial:\", np.dot(mat, mat3))"
      ]
    },
    {
      "cell_type": "markdown",
      "metadata": {
        "id": "BEy97gZEyESH"
      },
      "source": [
        "Se eu quiser fazer a multiplicação matricial da matriz A por ela mesma, não é possível pois a quantidade de linhas dela é diferente da quantidade de colunas.\n",
        "\n",
        "Porém, eu consigo resolver esse problema, multiplicando A pela sua transposta."
      ]
    },
    {
      "cell_type": "code",
      "execution_count": null,
      "metadata": {
        "id": "PnFhyO-xyESH",
        "colab": {
          "base_uri": "https://localhost:8080/"
        },
        "outputId": "761573de-df18-4f1c-9c84-24f6f4ae3cab"
      },
      "outputs": [
        {
          "output_type": "stream",
          "name": "stdout",
          "text": [
            "Multiplicação matricial transposta: [[29 47]\n",
            " [47 77]]\n"
          ]
        }
      ],
      "source": [
        "print(\"Multiplicação matricial transposta:\", np.dot(mat, mat.T))"
      ]
    },
    {
      "cell_type": "markdown",
      "metadata": {
        "id": "ybq3JREwyESI"
      },
      "source": [
        "Média dos valores de uma matriz."
      ]
    },
    {
      "cell_type": "code",
      "execution_count": null,
      "metadata": {
        "id": "ehPORDREyESJ",
        "colab": {
          "base_uri": "https://localhost:8080/"
        },
        "outputId": "c61c5e0d-617e-423c-bd89-0e70d360e7a1"
      },
      "outputs": [
        {
          "output_type": "stream",
          "name": "stdout",
          "text": [
            "Media matrix: 4.0\n",
            "Media das colunas: [3. 4. 5.]\n",
            "Media das linhas: [3. 5.]\n"
          ]
        }
      ],
      "source": [
        "print(\"Media matrix:\", np.mean(mat))\n",
        "print(\"Media das colunas:\", np.mean(mat, axis=0))\n",
        "print(\"Media das linhas:\", np.mean(mat, axis=1))"
      ]
    },
    {
      "cell_type": "markdown",
      "metadata": {
        "id": "AfikCWyKyESJ"
      },
      "source": [
        "Desvio padrão dos valores de uma matriz."
      ]
    },
    {
      "cell_type": "code",
      "execution_count": null,
      "metadata": {
        "id": "kr5WfgF2yESK",
        "colab": {
          "base_uri": "https://localhost:8080/"
        },
        "outputId": "c8a1c0d5-6b02-4a55-a9b4-be1199a72f83"
      },
      "outputs": [
        {
          "output_type": "stream",
          "name": "stdout",
          "text": [
            "Desvio padrao da matrix: 1.2909944487358056\n",
            "Desvio padrao das colunas: [1. 1. 1.]\n",
            "Desvio padrao das linhas: [0.81649658 0.81649658]\n"
          ]
        }
      ],
      "source": [
        "print(\"Desvio padrao da matrix:\", np.std(mat))\n",
        "print(\"Desvio padrao das colunas:\", np.std(mat, axis=0))\n",
        "print(\"Desvio padrao das linhas:\", np.std(mat, axis=1))"
      ]
    },
    {
      "cell_type": "markdown",
      "metadata": {
        "id": "NldmbO6wyESK"
      },
      "source": [
        "Mediana dos valores de uma matriz"
      ]
    },
    {
      "cell_type": "code",
      "execution_count": null,
      "metadata": {
        "id": "6hdGhxvLyESL",
        "colab": {
          "base_uri": "https://localhost:8080/"
        },
        "outputId": "2e3c80ca-a2e4-4fb8-c162-20bd154fa99f"
      },
      "outputs": [
        {
          "output_type": "stream",
          "name": "stdout",
          "text": [
            "Mediana da matrix: 4.0\n",
            "Mediana das colunas: [3. 4. 5.]\n",
            "Mediana das linhas: [3. 5.]\n"
          ]
        }
      ],
      "source": [
        "print(\"Mediana da matrix:\", np.median(mat))\n",
        "print(\"Mediana das colunas:\", np.median(mat, axis=0))\n",
        "print(\"Mediana das linhas:\", np.median(mat, axis=1))"
      ]
    },
    {
      "cell_type": "markdown",
      "metadata": {
        "id": "D-gLXZoiyESM"
      },
      "source": [
        "Outras funções para vetores e matrizes.\n",
        "* `np.min()` &rarr; valor mínimo\n",
        "* `np.max()` &rarr; valor máximo\n",
        "* `np.sort(A)` &rarr; retorna o vetor $A$ ordenado\n",
        "* `np.argsort(A)` &rarr; retorna os índices do vetor $A$ ordenado\n",
        "* `np.var()` &rarr; variância\n",
        "* `np.shape()` &rarr; dimensões da matriz\n",
        "* `np.transpose()` &rarr; transposta da matriz\n",
        "* `np.concatenate(arrays, axis=numero_do_eixo)` &rarr; concatena vetores ou matrizes\n",
        "* `vstack(A,B)` &rarr; empilha verticalmente\n",
        "* `hstack(A,B)` &rarr; empilha horizontalmente\n",
        "* `np.where(A>n)` &rarr; elementos em $A$ maiores que $n$"
      ]
    },
    {
      "cell_type": "markdown",
      "metadata": {
        "id": "It_8e2FQyESM"
      },
      "source": [
        "## Exercícios\n",
        "\n",
        "**Ex. 1**. Crie duas matrizes com os nomes $ExA$ e $ExB$ preenchidas com os seguintes valores:\n",
        "\n",
        "$ExA = \\begin{bmatrix}\n",
        "    12 & 9 & 4 & 1 \\\\\n",
        "    11 & 5 & 8 & 1 \\\\\n",
        "    1 & 2 & 3 & 1 \\\\\n",
        "  \\end{bmatrix}\n",
        "$,\n",
        "$\n",
        "ExB = \\begin{bmatrix}\n",
        "    1 & 5 \\\\\n",
        "    1 & 7 \\\\\n",
        "    1 & 9 \\\\\n",
        "    1 & 1 \\\\\n",
        "  \\end{bmatrix}\n",
        "$. Após isso, imprima as duas matrizes."
      ]
    },
    {
      "cell_type": "code",
      "execution_count": null,
      "metadata": {
        "id": "k-wKLEb1yESN"
      },
      "outputs": [],
      "source": [
        "################# ESCREVA SEU CÓDIGO AQUI  ###############################\n",
        "\n",
        "\n",
        "\n",
        "\n",
        "\n",
        "\n",
        "##########################################################################"
      ]
    },
    {
      "cell_type": "markdown",
      "metadata": {
        "id": "ULjJdId8yESN"
      },
      "source": [
        "**Ex. 2**. Crie uma matriz $ExC$ usando a seguinte operação: $ExC = ExA \\cdot ExB$. Depois, imprima $ExC$."
      ]
    },
    {
      "cell_type": "code",
      "execution_count": null,
      "metadata": {
        "id": "BShfIAXNyESN"
      },
      "outputs": [],
      "source": [
        "################# ESCREVA SEU CÓDIGO AQUI  ###############################\n",
        "\n",
        "\n",
        "\n",
        "\n",
        "\n",
        "\n",
        "##########################################################################"
      ]
    },
    {
      "cell_type": "markdown",
      "metadata": {
        "id": "HfMVkAyLyESN"
      },
      "source": [
        "**Ex. 3**. Crie uma função que retorne a média e o desvio padrão das linhas de uma matriz e a média e desvio padrão das colunas de uma matriz. Depois teste sua função com a matriz $ExC$."
      ]
    },
    {
      "cell_type": "code",
      "execution_count": null,
      "metadata": {
        "id": "ZbXmWA96yESO"
      },
      "outputs": [],
      "source": [
        "################# ESCREVA SEU CÓDIGO AQUI  ###############################\n",
        "\n",
        "\n",
        "\n",
        "\n",
        "\n",
        "\n",
        "\n",
        "\n",
        "\n",
        "##########################################################################"
      ]
    },
    {
      "cell_type": "markdown",
      "metadata": {
        "id": "DYrWgSh4yESO"
      },
      "source": [
        "**Ex. 4**. Crie uma matriz $ExD$ com os valores das duas últimas colunas de $ExA$. Depois, calcule a média dos valores de $ExD$."
      ]
    },
    {
      "cell_type": "code",
      "execution_count": null,
      "metadata": {
        "scrolled": true,
        "id": "2ZK8jgcnyESP"
      },
      "outputs": [],
      "source": [
        "################# ESCREVA SEU CÓDIGO AQUI  ###############################\n",
        "\n",
        "\n",
        "\n",
        "\n",
        "\n",
        "\n",
        "##########################################################################"
      ]
    },
    {
      "cell_type": "markdown",
      "metadata": {
        "id": "BQpau2e1yESP"
      },
      "source": [
        "**Ex. 5**. Crie uma matriz $ExE$ com os valores das linhas 1 e 2 e das colunas 1 e 2 de $ExA$."
      ]
    },
    {
      "cell_type": "code",
      "execution_count": null,
      "metadata": {
        "scrolled": true,
        "id": "zb6lrCJqyESP"
      },
      "outputs": [],
      "source": [
        "################# ESCREVA SEU CÓDIGO AQUI  ###############################\n",
        "\n",
        "\n",
        "\n",
        "\n",
        "\n",
        "\n",
        "\n",
        "##########################################################################"
      ]
    },
    {
      "cell_type": "markdown",
      "metadata": {
        "id": "Pa0eeLmoyESP"
      },
      "source": [
        "**Ex. 6**. Crie e imprima uma matriz $ExF$ com 5 linhas e 2 colunas e todos os valores iguais a 0."
      ]
    },
    {
      "cell_type": "code",
      "execution_count": null,
      "metadata": {
        "id": "Voc5I-EUyESQ"
      },
      "outputs": [],
      "source": [
        "################# ESCREVA SEU CÓDIGO AQUI  ###############################\n",
        "\n",
        "\n",
        "\n",
        "\n",
        "\n",
        "\n",
        "##########################################################################"
      ]
    },
    {
      "cell_type": "markdown",
      "metadata": {
        "id": "8ei4BbQhyESQ"
      },
      "source": [
        "**Ex. 7**. Crie e imprima uma matriz $ExG$ com 4 linhas e 3 colunas e todos os valores iguais a 1."
      ]
    },
    {
      "cell_type": "code",
      "execution_count": null,
      "metadata": {
        "id": "Zo57JkgLyESQ"
      },
      "outputs": [],
      "source": [
        "################# ESCREVA SEU CÓDIGO AQUI  ###############################\n",
        "\n",
        "\n",
        "\n",
        "\n",
        "\n",
        "\n",
        "##########################################################################"
      ]
    },
    {
      "cell_type": "markdown",
      "metadata": {
        "id": "JV7CcVcayESR"
      },
      "source": [
        "**Ex. 8**. Crie uma função que retorne o fatorial de um número. Teste a função que você criou, calculando o fatorial de 8.\n",
        "\n",
        "Fórmula do fatorial: $n! = (1 * 2 * 3 * ... * (n-2) * (n-1) * n)$\n",
        "\n",
        "Obs: é obrigatório usar um laço `for`.\n",
        "\n",
        "Exemplos:\n",
        "* $1! = 1$\n",
        "* $2! = 1*2$\n",
        "* $3! = 1*2*3$\n",
        "* $4! = 1*2*3*4$\n",
        "* $5! = 1*2*3*4*5$"
      ]
    },
    {
      "cell_type": "code",
      "execution_count": null,
      "metadata": {
        "id": "W3U9dz8kyESR"
      },
      "outputs": [],
      "source": [
        "################# ESCREVA SEU CÓDIGO AQUI  ###############################\n",
        "\n",
        "\n",
        "\n",
        "\n",
        "\n",
        "\n",
        "\n",
        "\n",
        "##########################################################################"
      ]
    },
    {
      "cell_type": "markdown",
      "metadata": {
        "id": "UGkN94OkyESR"
      },
      "source": [
        "**Ex. 9.** Crie um retângulo na cor verde. Depois, desenhe a letra **E** maiúscula nesse retângulo com a cor vermelha."
      ]
    },
    {
      "cell_type": "code",
      "execution_count": null,
      "metadata": {
        "id": "BPMvxT6SyESR",
        "colab": {
          "base_uri": "https://localhost:8080/",
          "height": 430
        },
        "outputId": "51adac4c-7c19-4595-e9d8-a560b619a7e6"
      },
      "outputs": [
        {
          "output_type": "display_data",
          "data": {
            "text/plain": [
              "<Figure size 640x480 with 1 Axes>"
            ],
            "image/png": "[encoded data removed]"
          },
          "metadata": {}
        }
      ],
      "source": [
        "################# ESCREVA SEU CÓDIGO AQUI  ###############################\n",
        "img = np.zeros([15,20,3], dtype=np.uint8)\n",
        "img[:,:,1] = 255\n",
        "img[4,8:12,:] = [255, 0, 0]\n",
        "img[4:11,8,:] = [255, 0, 0]\n",
        "img[7:8,8:12,:] = [255, 0, 0]\n",
        "img[11,8:12,:] = [255, 0, 0]\n",
        "\n",
        "plt.imshow(img)\n",
        "plt.show()\n",
        "##########################################################################"
      ]
    }
  ],
  "metadata": {
    "kernelspec": {
      "display_name": "Python 3 (ipykernel)",
      "language": "python",
      "name": "python3"
    },
    "language_info": {
      "codemirror_mode": {
        "name": "ipython",
        "version": 3
      },
      "file_extension": ".py",
      "mimetype": "text/x-python",
      "name": "python",
      "nbconvert_exporter": "python",
      "pygments_lexer": "ipython3",
      "version": "3.11.5"
    },
    "vscode": {
      "interpreter": {
        "hash": "d8d3ff3e2b5334ad4397068f2512301b7247a0268b8f631cb00f1cdcbb1f6f82"
      }
    },
    "colab": {
      "provenance": [],
      "include_colab_link": true
    }
  },
  "nbformat": 4,
  "nbformat_minor": 0
}